{
  "nbformat": 4,
  "nbformat_minor": 0,
  "metadata": {
    "colab": {
      "name": "Module 3 Homework.ipynb",
      "provenance": [],
      "collapsed_sections": []
    },
    "kernelspec": {
      "name": "python3",
      "display_name": "Python 3"
    }
  },
  "cells": [
    {
      "cell_type": "code",
      "metadata": {
        "id": "ZLEXk63WVeSQ",
        "colab_type": "code",
        "colab": {
          "base_uri": "https://localhost:8080/",
          "height": 85
        },
        "outputId": "915f9672-2f0a-4d38-8f15-9f56edbfb63b"
      },
      "source": [
        "# to get present value\n",
        "r = float(input(\"What is the interest rate?/n\"))\n",
        "p = float(input('What is the principal?/n'))\n",
        "t = float(input('What is the time on the investment?/n'))\n",
        "\n",
        "output = p*(1+r)**t\n",
        "print(\"The future value is: \", output)"
      ],
      "execution_count": null,
      "outputs": [
        {
          "output_type": "stream",
          "text": [
            "What is the interest rate?/n0.06\n",
            "What is the principal?/n40\n",
            "What is the time on the investment?/n2\n",
            "The future value is:  44.944\n"
          ],
          "name": "stdout"
        }
      ]
    },
    {
      "cell_type": "markdown",
      "metadata": {
        "id": "7lLvwNHiwxEI",
        "colab_type": "text"
      },
      "source": [
        "#Present Value \n",
        "We ask the user for the info and then do the math, based on the known formula.\n",
        "# PV = FV / (1 + r)years\n",
        "\n",
        "\n",
        "\n",
        "\n"
      ]
    },
    {
      "cell_type": "code",
      "metadata": {
        "id": "Hh50kU1UsYOK",
        "colab_type": "code",
        "colab": {
          "base_uri": "https://localhost:8080/",
          "height": 85
        },
        "outputId": "7286afd7-13c0-4fde-87a3-a57bd639862e"
      },
      "source": [
        "future_value = float(input('Enter the desired future value: '))\n",
        "rate = float(input('Enter the annual interest rate: '))\n",
        "years = int(input('Enter the number of years the money will grow: '))\n",
        "\n",
        "present_value = future_value / (1.0 + rate)**years\n",
        "print('You will need to deposit this amount:', present_value)"
      ],
      "execution_count": null,
      "outputs": [
        {
          "output_type": "stream",
          "text": [
            "Enter the desired future value: 10000\n",
            "Enter the annual interest rate: 0.05\n",
            "Enter the number of years the money will grow: 4\n",
            "You will need to deposit this amount: 8227.024747918818\n"
          ],
          "name": "stdout"
        }
      ]
    }
  ]
}