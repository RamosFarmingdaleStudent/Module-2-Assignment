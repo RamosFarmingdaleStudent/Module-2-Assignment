{
  "nbformat": 4,
  "nbformat_minor": 0,
  "metadata": {
    "colab": {
      "name": "Module 5.ipynb",
      "provenance": [],
      "collapsed_sections": []
    },
    "kernelspec": {
      "name": "python3",
      "display_name": "Python 3"
    }
  },
  "cells": [
    {
      "cell_type": "code",
      "metadata": {
        "id": "-ZTyzUK9kn-2"
      },
      "source": [
        "#create a password with 8 characters, an uppercase, a lowercase, a number, and a special character\n",
        "#import regex (regular expressions) libary (to check for special characters)\n",
        "import re\n",
        "\n",
        "password = input(\"Put in potential password \")\n",
        "\n",
        "counter = 0\n",
        "upperCase = lowerCase = False\n",
        "hasSpecial = False\n",
        "\n",
        "for letter in password:\n",
        "  counter = counter + 1\n",
        "  print(letter)\n",
        "  if letter.isupper():\n",
        "    upperCase = True\n",
        "  if letter.islower():\n",
        "    lowerCase = True \n",
        "  if letter.isnumeric():\n",
        "    hasNumber = True \n",
        "  \n",
        "if re.findall('[A-Za-z0-9]',password):\n",
        "  hasSpecial = True\n",
        "\n",
        "print(hasSpecial)\n",
        "#output if the password is good or, if not, specify what to fix\n",
        "#below is an incomplete example\n",
        "if (counter >= 8) and (upperCase is True) and (lowerCase is True) and (hasNumber is True) and (hasSpecial is True): \n",
        "  print(\"That is a valid password\")\n",
        "else:\n",
        "  print(\"That is an invalid password\")"
      ],
      "execution_count": null,
      "outputs": []
    },
    {
      "cell_type": "code",
      "metadata": {
        "id": "gzgzXe1Il6rv"
      },
      "source": [
        "x = \"a2345\"\n",
        "\n",
        "for letter in x:\n",
        "  print(letter.isnumeric())"
      ],
      "execution_count": null,
      "outputs": []
    },
    {
      "cell_type": "code",
      "metadata": {
        "id": "azl7HFstn8Rh"
      },
      "source": [
        "import re\n",
        "s = 'Sean123!'\n",
        "if re.findall('[A-Za-z0-9]',s):\n",
        "  print(True)\n",
        "else:\n",
        "  print(False)"
      ],
      "execution_count": null,
      "outputs": []
    },
    {
      "cell_type": "code",
      "metadata": {
        "id": "1gUzyl4q-Lt7"
      },
      "source": [
        "for i in range(100, 1000):\n",
        "  if(1000 % i == 0):\n",
        "    print(i)"
      ],
      "execution_count": null,
      "outputs": []
    },
    {
      "cell_type": "code",
      "metadata": {
        "id": "wNIj3ARc7sJ-"
      },
      "source": [
        "for i in range (3,1000):\n",
        "  val = str(i)\n",
        "  for position in val:\n",
        "    if(position == '3'):\n",
        "      print(i)\n",
        "      break"
      ],
      "execution_count": null,
      "outputs": []
    },
    {
      "cell_type": "code",
      "metadata": {
        "id": "8_jcIpUB6W3r"
      },
      "source": [
        "for blob in range(100,2,-2):\n",
        "  print(blob, end = \" \")"
      ],
      "execution_count": null,
      "outputs": []
    },
    {
      "cell_type": "code",
      "metadata": {
        "id": "p-gikjGHp5Ks"
      },
      "source": [
        "# This program demonstrates string concatenation.\n",
        "first_name = input('Enter your first name: ')\n",
        "last_name = input('Enter your last name: ')\n",
        "\n",
        "# Combine the names with a space between them.\n",
        "full_name = first_name + ' ' + last_name\n",
        "\n",
        "# Displays the user's full name.\n",
        "print('Your full name is ' + full_name)"
      ],
      "execution_count": null,
      "outputs": []
    },
    {
      "cell_type": "code",
      "metadata": {
        "id": "q-l5PBoU3lps"
      },
      "source": [
        "#give 3 chances to get the correct age\n",
        "age = -1\n",
        "chances = 0\n",
        "\n",
        "while age <= 0 or age >= 120:\n",
        "  if chances >= 3:\n",
        "    print('You/ve exceeded your number of chances. Times up.')\n",
        "    break\n",
        "  chances = chances + 1\n",
        "  age = int(input('Please give me your age.'))\n",
        "\n"
      ],
      "execution_count": null,
      "outputs": []
    }
  ]
}