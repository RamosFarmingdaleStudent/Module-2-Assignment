{
  "nbformat": 4,
  "nbformat_minor": 0,
  "metadata": {
    "colab": {
      "name": "Module 8 HW",
      "provenance": [],
      "collapsed_sections": []
    },
    "kernelspec": {
      "name": "python3",
      "display_name": "Python 3"
    }
  },
  "cells": [
    {
      "cell_type": "code",
      "metadata": {
        "id": "vmwOOOAU1Hft"
      },
      "source": [
        "theList = [19, 32, 34, 33, 75, 91, 9, 4, 18, 38]\n",
        "\n",
        "def theMax(numbers):\n",
        "  max = -1\n",
        "  for k in numbers:\n",
        "    if max < k:\n",
        "      max = k\n",
        "  return max\n",
        "\n",
        "def theMin(numbers):\n",
        "  min = 100000000\n",
        "  for k in numbers:\n",
        "    if min > k:\n",
        "      min = k\n",
        "  return min\n",
        "\n",
        "def theAverage(numbers):\n",
        "  total = 0\n",
        "  for k in numbers:\n",
        "    total += k\n",
        "  return total/ len(numbers)\n",
        "\n",
        "def theSD(numbers):\n",
        "  total = 0\n",
        "  avg = theAverage(numbers)\n",
        "  for k in numbers:\n",
        "    total += pow(k-avg,2)\n",
        "  return pow(total/(len(numbers)-1),.5)\n",
        "\n",
        "def theGeoMean(numbers):\n",
        "  total = 1\n",
        "  for k in numbers:\n",
        "    total *= k\n",
        "  return pow(total, 1/len(numbers))\n",
        "\n",
        "theList = [19, 32, 34, 33, 75, 91, 9, 4, 18, 38]\n",
        "print(theAverage(theList))\n",
        "print(theGeoMean(theList))"
      ],
      "execution_count": null,
      "outputs": []
    },
    {
      "cell_type": "code",
      "metadata": {
        "id": "u88QvXtW2-M1"
      },
      "source": [
        "import math\n",
        "\n",
        "def chooseShape():\n",
        "  val = input(\"Press 1 fro triangle, 2 for circle, 3 fro square\")\n",
        "  if val == 1:\n",
        "    triangleArea()\n",
        "  elif val == 2:\n",
        "    circleArea()\n",
        "  elif val == 3:\n",
        "    squareArea()\n",
        "  else:\n",
        "    print(\"Invalid choice\")\n",
        "\n",
        "def triangleArea():\n",
        "  base = float(input('What is the base?'))\n",
        "  height = float(input('What is the height?'))\n",
        "  print(f'The area is {base*heigh/2}.')\n",
        "\n",
        "def circleArea():\n",
        "  radius = float(input('What is the radius?'))\n",
        "  print(f'The area of the circle is {radius*radius*math.pi}')\n",
        "\n",
        "def squareArea():\n",
        "  side = float(input('What is the side?'))\n",
        "  print(f'The area is {side**2}')"
      ],
      "execution_count": null,
      "outputs": []
    },
    {
      "cell_type": "code",
      "metadata": {
        "id": "riBr1rqHCaiZ"
      },
      "source": [
        "def doubleIt(x):\n",
        "  choice = int(input('Say 1 to double the numbers and 2 to double the values'))\n",
        "\n",
        "  if choice == 1:\n",
        "    return x*2\n",
        "  elif choice == 2:\n",
        "    for k in range(len(x)):\n",
        "      x[k] = x[k]*2\n",
        "    return x\n",
        "\n",
        "\n",
        "val = [1, 2, 3]\n",
        "other = doubleIt(val)\n",
        "\n",
        "print(val)"
      ],
      "execution_count": null,
      "outputs": []
    },
    {
      "cell_type": "code",
      "metadata": {
        "id": "koYpTFtZC96l"
      },
      "source": [
        "def putTogether(x,y):\n",
        "  other = []\n",
        "  for i in range(len(x)):\n",
        "    other.append(x[i] *10 + y[i])\n",
        "  return other\n",
        "\n",
        "x = [1, 2, 3]\n",
        "y = [7, 8, 9]\n",
        "print(putTogether(x,y))"
      ],
      "execution_count": null,
      "outputs": []
    },
    {
      "cell_type": "code",
      "metadata": {
        "id": "msfmO1HIGjJ9"
      },
      "source": [
        "#sum of even valued fibonacci numbers\n",
        "def fib():\n",
        "  a = 1\n",
        "  b = 1\n",
        "  total = 0\n",
        "\n",
        "  for k in range(1000):\n",
        "   c = a + b\n",
        "   if c >= 1000:\n",
        "    break\n",
        "   elif (c % 2 == 0):\n",
        "    total += c\n",
        "    a = b\n",
        "    b = c\n",
        "  return total\n",
        "\n",
        "print(fib())"
      ],
      "execution_count": null,
      "outputs": []
    },
    {
      "cell_type": "code",
      "metadata": {
        "id": "sW8FJnNFrXpW"
      },
      "source": [
        "total_sum = 0\n",
        "for i in range(1, 1000):\n",
        "    if (i % 3 == 0 or i % 5 == 0):\n",
        "        total_sum = total_sum + i\n",
        "print(total_sum)  "
      ],
      "execution_count": null,
      "outputs": []
    },
    {
      "cell_type": "code",
      "metadata": {
        "id": "Dm2ZTGFzOf9F"
      },
      "source": [
        "#Extra Credit Problem\n",
        "import time\n",
        "\n",
        "start = time.time()\n",
        "\n",
        "solution = 0\n",
        "\n",
        "for i in range(2,5*9**5+1):\n",
        "\tif sum([int(x)**5 for x in str(i)]) == i:\n",
        "\t\tsolution += i\n",
        "\n",
        "print(solution)\n",
        "\n",
        "end = time.time()\n",
        "\n",
        "print (end - start)"
      ],
      "execution_count": null,
      "outputs": []
    },
    {
      "cell_type": "code",
      "metadata": {
        "id": "NMVEdNV-vClB"
      },
      "source": [
        "def list_of_primes(upper_bound):\n",
        "    primes = []\n",
        "    for candidate in range(2, upper_bound):\n",
        "        is_prime = True\n",
        "        for divisor in range(2, candidate):\n",
        "            if candidate % divisor == 0:\n",
        "                is_prime = False\n",
        "                break  # no need to test any further\n",
        "        if is_prime:\n",
        "            primes.append(candidate)\n",
        "    return primes"
      ],
      "execution_count": 3,
      "outputs": []
    },
    {
      "cell_type": "code",
      "metadata": {
        "id": "c4IZGDwvaq1P"
      },
      "source": [
        "def sum(x,y):\n",
        "    ans = x+y\n",
        "    return ans\n",
        "\n",
        "def avg(x,y):\n",
        "    avge = sum(x,y)/2\n",
        "    average = int(avge)\n",
        "    print(\"Sum of the given two numbers is:\", sum(x,y))\n",
        "    print(\"Average of the given numbers is:\", average)\n",
        "\n",
        "num1 = int(input(\"Enter first number:\"))\n",
        "a = num1\n",
        "num2 = int(input(\"Enter second number:\"))\n",
        "b = num2\n",
        "\n",
        "sum(a,b)\n",
        "avg(a,b)"
      ],
      "execution_count": null,
      "outputs": []
    }
  ]
}