{
  "nbformat": 4,
  "nbformat_minor": 0,
  "metadata": {
    "colab": {
      "name": "Module 4 Homework.ipynb",
      "provenance": [],
      "collapsed_sections": []
    },
    "kernelspec": {
      "name": "python3",
      "display_name": "Python 3"
    }
  },
  "cells": [
    {
      "cell_type": "code",
      "metadata": {
        "id": "F90ge5rBFtuU",
        "colab_type": "code",
        "colab": {}
      },
      "source": [
        "amount = int(input(\"How many packages will you be purchasing? \"))\n",
        "\n",
        "if amount <= 10:\n",
        "  print('The discount is %10')\n",
        "elif amount <= 20:\n",
        "  print('The discount is %20')\n",
        "elif amount <= 50:\n",
        "  print('The discount is %30')\n",
        "elif amount <= 100:\n",
        "  print('The discount is %40')"
      ],
      "execution_count": null,
      "outputs": []
    },
    {
      "cell_type": "code",
      "metadata": {
        "id": "U6imS8pQdaTs",
        "colab_type": "code",
        "colab": {}
      },
      "source": [
        "weight = int(input(\"What is the weight of the package? \"))\n",
        "\n",
        "if weight <= 2:\n",
        "  print('The rate per pound is $1.50')\n",
        "elif weight >= 3 and weight <= 6:\n",
        "  print('The rate per pound is $3.00')\n",
        "elif weight >= 7 and weight <= 10:\n",
        "  print('The rate per pound is $4.00')\n",
        "elif weight >= 11 and weight <= 20:\n",
        "  print('The rate per pound is $4.75')"
      ],
      "execution_count": null,
      "outputs": []
    }
  ]
}